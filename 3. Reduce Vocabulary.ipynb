{
 "cells": [
  {
   "cell_type": "markdown",
   "id": "ad2015b5",
   "metadata": {},
   "source": [
    "# Reduce Vocabulary"
   ]
  },
  {
   "cell_type": "markdown",
   "id": "dbd4a368",
   "metadata": {},
   "source": [
    "This notebook is about minimizing the size of our vocabulary.\n",
    "We will use pretrained vectors (Tayga) as well as trained on our own (using gensim's word2vec and GloVe)."
   ]
  },
  {
   "cell_type": "markdown",
   "id": "ace91761",
   "metadata": {},
   "source": [
    "## Load data"
   ]
  },
  {
   "cell_type": "code",
   "execution_count": 1,
   "id": "9dd805df",
   "metadata": {},
   "outputs": [],
   "source": [
    "import pandas as pd\n",
    "import matplotlib.pyplot as plt\n",
    "import numpy as np"
   ]
  },
  {
   "cell_type": "code",
   "execution_count": 2,
   "id": "1374c4c9",
   "metadata": {},
   "outputs": [],
   "source": [
    "df_rus = pd.read_excel(\"home_appliances_rus.xlsx\", index_col=0)"
   ]
  },
  {
   "cell_type": "code",
   "execution_count": 3,
   "id": "91f24bee",
   "metadata": {},
   "outputs": [
    {
     "name": "stdout",
     "output_type": "stream",
     "text": [
      "Loaded 6802 rows\n"
     ]
    },
    {
     "data": {
      "text/html": [
       "<div>\n",
       "<style scoped>\n",
       "    .dataframe tbody tr th:only-of-type {\n",
       "        vertical-align: middle;\n",
       "    }\n",
       "\n",
       "    .dataframe tbody tr th {\n",
       "        vertical-align: top;\n",
       "    }\n",
       "\n",
       "    .dataframe thead th {\n",
       "        text-align: right;\n",
       "    }\n",
       "</style>\n",
       "<table border=\"1\" class=\"dataframe\">\n",
       "  <thead>\n",
       "    <tr style=\"text-align: right;\">\n",
       "      <th></th>\n",
       "      <th>title</th>\n",
       "      <th>text</th>\n",
       "      <th>source_type</th>\n",
       "      <th>source</th>\n",
       "      <th>date</th>\n",
       "      <th>home_appliances</th>\n",
       "      <th>MAIN_1: НЕРЕЛЕВАНТ</th>\n",
       "      <th>MAIN_1: Продаж нової техніки</th>\n",
       "      <th>MAIN_1: Продаж Б/У</th>\n",
       "      <th>MAIN_1: Ремонт/Поломки/Деталі</th>\n",
       "      <th>...</th>\n",
       "      <th>MAIN_2: Морозильна камера</th>\n",
       "      <th>MAIN_2: Духовка</th>\n",
       "      <th>MAIN_2: Варочні поверхні</th>\n",
       "      <th>MAIN_2: Витяжка</th>\n",
       "      <th>MAIN_2: Мікрохвильовка</th>\n",
       "      <th>MAIN_2: Кондиціонер</th>\n",
       "      <th>MAIN_2: Пилосос</th>\n",
       "      <th>MAIN_2: Бойлер</th>\n",
       "      <th>clean_text</th>\n",
       "      <th>lang</th>\n",
       "    </tr>\n",
       "  </thead>\n",
       "  <tbody>\n",
       "    <tr>\n",
       "      <th>0</th>\n",
       "      <td>Инверторные кондиционеры | Купить в Москве по ...</td>\n",
       "      <td>&lt;p&gt;Инверторные кондиционеры | Купить в Москве ...</td>\n",
       "      <td>Социальные сети</td>\n",
       "      <td>facebook</td>\n",
       "      <td>2022-01-20 15:53:00</td>\n",
       "      <td>True</td>\n",
       "      <td>False</td>\n",
       "      <td>True</td>\n",
       "      <td>False</td>\n",
       "      <td>False</td>\n",
       "      <td>...</td>\n",
       "      <td>False</td>\n",
       "      <td>False</td>\n",
       "      <td>False</td>\n",
       "      <td>False</td>\n",
       "      <td>False</td>\n",
       "      <td>True</td>\n",
       "      <td>False</td>\n",
       "      <td>False</td>\n",
       "      <td>инверторные кондиционеры купить в москве по вы...</td>\n",
       "      <td>ru</td>\n",
       "    </tr>\n",
       "  </tbody>\n",
       "</table>\n",
       "<p>1 rows × 33 columns</p>\n",
       "</div>"
      ],
      "text/plain": [
       "                                               title  \\\n",
       "0  Инверторные кондиционеры | Купить в Москве по ...   \n",
       "\n",
       "                                                text      source_type  \\\n",
       "0  <p>Инверторные кондиционеры | Купить в Москве ...  Социальные сети   \n",
       "\n",
       "     source                date  home_appliances  MAIN_1: НЕРЕЛЕВАНТ  \\\n",
       "0  facebook 2022-01-20 15:53:00             True               False   \n",
       "\n",
       "   MAIN_1: Продаж нової техніки  MAIN_1: Продаж Б/У  \\\n",
       "0                          True               False   \n",
       "\n",
       "   MAIN_1: Ремонт/Поломки/Деталі  ...  MAIN_2: Морозильна камера  \\\n",
       "0                          False  ...                      False   \n",
       "\n",
       "   MAIN_2: Духовка  MAIN_2: Варочні поверхні  MAIN_2: Витяжка  \\\n",
       "0            False                     False            False   \n",
       "\n",
       "   MAIN_2: Мікрохвильовка  MAIN_2: Кондиціонер  MAIN_2: Пилосос  \\\n",
       "0                   False                 True            False   \n",
       "\n",
       "   MAIN_2: Бойлер                                         clean_text  lang  \n",
       "0           False  инверторные кондиционеры купить в москве по вы...    ru  \n",
       "\n",
       "[1 rows x 33 columns]"
      ]
     },
     "execution_count": 3,
     "metadata": {},
     "output_type": "execute_result"
    }
   ],
   "source": [
    "df_tags = pd.read_excel(\"home_appliances_with_tags.xlsx\", index_col=0)\n",
    "print(f\"Loaded {df_tags.shape[0]} rows\")\n",
    "df_tags.head(1)"
   ]
  },
  {
   "cell_type": "code",
   "execution_count": 4,
   "id": "b3ea57c7",
   "metadata": {},
   "outputs": [],
   "source": [
    "df_tags.drop(columns=['title', 'text', 'source_type', 'source', \n",
    "                      'date', 'home_appliances', 'clean_text', 'lang'], inplace=True)"
   ]
  },
  {
   "cell_type": "code",
   "execution_count": 5,
   "id": "38f9b560",
   "metadata": {},
   "outputs": [],
   "source": [
    "df_tags = df_tags.loc[df_rus.index, :]"
   ]
  },
  {
   "cell_type": "code",
   "execution_count": 6,
   "id": "1c691b9f",
   "metadata": {},
   "outputs": [
    {
     "data": {
      "text/plain": [
       "Index(['MAIN_1: НЕРЕЛЕВАНТ', 'MAIN_1: Продаж нової техніки',\n",
       "       'MAIN_1: Продаж Б/У', 'MAIN_1: Ремонт/Поломки/Деталі',\n",
       "       'MAIN_1: Послуги', 'MAIN_1: Огляд', 'MAIN_1: Розіграші',\n",
       "       'MAIN_1: Продажа(здача) квартир з подутовою технікою',\n",
       "       'MAIN_1: Корп активність в компанії', 'MAIN_1: Софти',\n",
       "       'MAIN_1: Відгуки в інтернет-магазинах (розширити тематику)',\n",
       "       'MAIN_1: Вакансії/робота', 'MAIN_1: інші електронні пристрої',\n",
       "       'MAIN_2: Холодильник', 'MAIN_2: Пральна машина', 'MAIN_2: Сушка',\n",
       "       'MAIN_2: Посудомийка', 'MAIN_2: Морозильна камера', 'MAIN_2: Духовка',\n",
       "       'MAIN_2: Варочні поверхні', 'MAIN_2: Витяжка', 'MAIN_2: Мікрохвильовка',\n",
       "       'MAIN_2: Кондиціонер', 'MAIN_2: Пилосос', 'MAIN_2: Бойлер'],\n",
       "      dtype='object')"
      ]
     },
     "execution_count": 6,
     "metadata": {},
     "output_type": "execute_result"
    }
   ],
   "source": [
    "df_tags.columns"
   ]
  },
  {
   "cell_type": "code",
   "execution_count": 7,
   "id": "3537a8c5",
   "metadata": {},
   "outputs": [],
   "source": [
    "all_tags = list(df_tags.columns)\n",
    "tag2id = {tag:i for i, tag in enumerate(all_tags)}\n",
    "id2tag = {i:tag for tag, i in tag2id.items()}"
   ]
  },
  {
   "cell_type": "markdown",
   "id": "97d3750d",
   "metadata": {},
   "source": [
    "## Create vocabulary"
   ]
  },
  {
   "cell_type": "code",
   "execution_count": 8,
   "id": "018ef6a6",
   "metadata": {},
   "outputs": [
    {
     "name": "stdout",
     "output_type": "stream",
     "text": [
      "Total length of vocabulary is -- 27549\n"
     ]
    }
   ],
   "source": [
    "lemmatized = {}\n",
    "for index in df_rus.index:\n",
    "    lemmatized[index] = df_rus.loc[index, \"lemmatized_with_pos\"].split(\" \")\n",
    "\n",
    "vocab = []\n",
    "for tokens in lemmatized.values():\n",
    "    for word in tokens:\n",
    "        if word not in vocab:\n",
    "            vocab.append(word)\n",
    "\n",
    "print(f\"Total length of vocabulary is -- {len(vocab)}\")"
   ]
  },
  {
   "cell_type": "markdown",
   "id": "a5cb43b7",
   "metadata": {},
   "source": [
    "Create word to index mapper"
   ]
  },
  {
   "cell_type": "code",
   "execution_count": 9,
   "id": "e189ae96",
   "metadata": {},
   "outputs": [],
   "source": [
    "word2ind = {}\n",
    "ind2word = {}\n",
    "n = 0\n",
    "for word in vocab:\n",
    "    word2ind[word] = n\n",
    "    ind2word[n] = word\n",
    "    n += 1\n",
    "\n",
    "lemmatized_w_ids = {}\n",
    "for key, tokens in lemmatized.items():\n",
    "    new_tokens = []\n",
    "    for word in tokens:\n",
    "        new_tokens.append(word2ind[word])\n",
    "    lemmatized_w_ids[key] = new_tokens"
   ]
  },
  {
   "cell_type": "markdown",
   "id": "7aea578b",
   "metadata": {},
   "source": [
    "## Load tayga model"
   ]
  },
  {
   "cell_type": "code",
   "execution_count": 10,
   "id": "b7b6a820",
   "metadata": {},
   "outputs": [
    {
     "name": "stdout",
     "output_type": "stream",
     "text": [
      "Loading the Tayga model... Done.\n"
     ]
    }
   ],
   "source": [
    "import gensim\n",
    "print('Loading the Tayga model...', end='\\r', flush=True)\n",
    "tayga_file = r\"C:\\Users\\BHaiov01\\Documents\\MLmodels/tayga_model.bin\"\n",
    "tayga = gensim.models.KeyedVectors.load_word2vec_format(tayga_file, binary=True)\n",
    "print('Loading the Tayga model... Done.')"
   ]
  },
  {
   "cell_type": "code",
   "execution_count": 13,
   "id": "1a3b0b12",
   "metadata": {},
   "outputs": [],
   "source": [
    "# from lemmatization import process, process_pipeline\n",
    "\n",
    "# get vector of processed word in tayga model\n",
    "def get_vector(tagged_word, word2vec_model=None):\n",
    "    if tagged_word in word2vec_model.key_to_index.keys():\n",
    "        vec = word2vec_model.get_vector(word2vec_model.key_to_index[tagged_word])\n",
    "#         print(\"yes\")\n",
    "        return vec\n",
    "    else:\n",
    "#         print(\"no\")\n",
    "        return None"
   ]
  },
  {
   "cell_type": "markdown",
   "id": "02e3afcc",
   "metadata": {},
   "source": [
    "Create a dict with vectors for words from the vocab"
   ]
  },
  {
   "cell_type": "code",
   "execution_count": 14,
   "id": "6c8558b5",
   "metadata": {},
   "outputs": [
    {
     "name": "stdout",
     "output_type": "stream",
     "text": [
      "13238 / 27549 vectors are empty\n"
     ]
    }
   ],
   "source": [
    "vectors = {}\n",
    "n_empty_vectors = 0\n",
    "for word_tagged in vocab:\n",
    "    vector = get_vector(word_tagged, word2vec_model=tayga)\n",
    "    \n",
    "    if vector is None:\n",
    "        n_empty_vectors += 1\n",
    "    \n",
    "    if word_tagged is not None:\n",
    "        vectors[word_tagged] = vector\n",
    "    else:\n",
    "#         print(word)\n",
    "        vectors[word_tagged] = vector\n",
    "\n",
    "\n",
    "print(f\"{n_empty_vectors} / {len(vocab)} vectors are empty\")"
   ]
  },
  {
   "cell_type": "markdown",
   "id": "6ea439c4",
   "metadata": {},
   "source": [
    "Поглянемо на к-сть іменників, прикметників та дієслів, що мають вектори"
   ]
  },
  {
   "cell_type": "code",
   "execution_count": 15,
   "id": "f456023e",
   "metadata": {},
   "outputs": [
    {
     "name": "stdout",
     "output_type": "stream",
     "text": [
      "{'ADJ': 2724, 'NOUN': 6122, 'VERB': 3177, 'X': 887, 'ADV': 887, 'NUM': 50, 'PRON': 24, 'ADP': 108, 'PROPN': 223, 'DET': 35, 'PART': 42, 'SCONJ': 13, 'CCONJ': 7, 'INTJ': 7, 'AUX': 5}\n"
     ]
    }
   ],
   "source": [
    "counts = {}\n",
    "counts[\"ADJ\"] = 0\n",
    "counts[\"NOUN\"] = 0\n",
    "counts[\"VERB\"] = 0\n",
    "for word, vec in vectors.items():\n",
    "    if vec is None:\n",
    "        continue\n",
    "        \n",
    "    pos_tag = word.split(\"_\")[-1]\n",
    "    \n",
    "    if pos_tag not in counts.keys():\n",
    "        counts[pos_tag] = 0\n",
    "    \n",
    "    counts[pos_tag] += 1\n",
    "\n",
    "print(counts)"
   ]
  },
  {
   "cell_type": "markdown",
   "id": "535c593a",
   "metadata": {},
   "source": [
    "Поглянемо на к-сть іменників, прикметників та дієслів, що НЕ мають векторів"
   ]
  },
  {
   "cell_type": "code",
   "execution_count": 16,
   "id": "2294d2e5",
   "metadata": {},
   "outputs": [
    {
     "name": "stdout",
     "output_type": "stream",
     "text": [
      "{'ADJ': 1417, 'NOUN': 4363, 'VERB': 961, 'X': 5073, 'PROPN': 562, 'ADV': 398, 'NUM': 178, 'ADP': 141, 'PRON': 12, 'DET': 57, 'PART': 56, 'INTJ': 6, 'SCONJ': 7, 'CCONJ': 4, 'AUX': 3}\n"
     ]
    }
   ],
   "source": [
    "counts = {}\n",
    "counts[\"ADJ\"] = 0\n",
    "counts[\"NOUN\"] = 0\n",
    "counts[\"VERB\"] = 0\n",
    "for word, vec in vectors.items():\n",
    "    if word is None:\n",
    "        continue\n",
    "    \n",
    "    pos_tag = word.split(\"_\")[-1]\n",
    "    \n",
    "    if pos_tag not in counts.keys():\n",
    "        counts[pos_tag] = 0\n",
    "    \n",
    "    if vec is None:    \n",
    "        counts[pos_tag] += 1\n",
    "        \n",
    "print(counts)"
   ]
  },
  {
   "cell_type": "code",
   "execution_count": 17,
   "id": "40eac173",
   "metadata": {},
   "outputs": [],
   "source": [
    "empty_vectors = {w: v for w, v in vectors.items() if (w is not None and v is None)}"
   ]
  },
  {
   "cell_type": "markdown",
   "id": "21894a38",
   "metadata": {},
   "source": [
    "Окей, ми маємо вектори лише для половини слів. Це хуйово, але не критично. Спробуємо зменшити к-сть слів хоча б на 25% від всього обсягу (тобто на 50% від тієї половини, що має вектори). Також, варто вилучити звідти всі слова, які є серед наших тегів (щоб холодильник та пралка не змішались до купи)"
   ]
  },
  {
   "cell_type": "markdown",
   "id": "2fce64c7",
   "metadata": {},
   "source": [
    "## Reduce vocab size"
   ]
  },
  {
   "cell_type": "markdown",
   "id": "89eb44cf",
   "metadata": {},
   "source": [
    "Напишемо ф-цію, яка перевірить чи це слово є в початковому запиті при зборі даних"
   ]
  },
  {
   "cell_type": "code",
   "execution_count": 18,
   "id": "36c47f5a",
   "metadata": {},
   "outputs": [],
   "source": [
    "from string import digits\n",
    "from requests_finder import load_request\n",
    "import re\n",
    "\n",
    "\n",
    "def contains_mention(text):\n",
    "    \"\"\"\n",
    "    Function checks if there is a mention of tags in the text\n",
    "    \"\"\"\n",
    "    global req\n",
    "    \n",
    "    if re.findall(req.lower(), text.lower()) == []:\n",
    "        return False\n",
    "    else:\n",
    "        return True\n",
    "\n",
    "def decompose_initial_request(path_to_req):\n",
    "    with open(path_to_req, \"r\", encoding=\"utf8\") as f:\n",
    "              req = f.readlines()[0]\n",
    "    \n",
    "    new_req_list = []\n",
    "    req = req.replace(\"(\", \"\")\n",
    "    req = req.replace(\")\", \"\")\n",
    "    req = req.replace(\"/\", \"\")\n",
    "    req = req.replace(\"AND\", \"\")\n",
    "    req = req.replace(\"OR\", \"\")\n",
    "    for digit in digits:\n",
    "        req = req.replace(str(digit), \"\")\n",
    "    \n",
    "    for t in req.split():\n",
    "        new_req_list.append(t)\n",
    "        \n",
    "    new_req = \" OR \".join(new_req_list)\n",
    "    \n",
    "    return new_req"
   ]
  },
  {
   "cell_type": "code",
   "execution_count": 19,
   "id": "91eb4633",
   "metadata": {},
   "outputs": [],
   "source": [
    "req = decompose_initial_request(path_to_req=\"request.txt\")\n",
    "req = load_request(request=req)"
   ]
  },
  {
   "cell_type": "markdown",
   "id": "1f225346",
   "metadata": {},
   "source": [
    "Виберемо тільки ті слова, що мають вектори, або підходять під початковий запит"
   ]
  },
  {
   "cell_type": "code",
   "execution_count": 20,
   "id": "ba9cb00c",
   "metadata": {},
   "outputs": [
    {
     "name": "stdout",
     "output_type": "stream",
     "text": [
      "0\n"
     ]
    }
   ],
   "source": [
    "lemmatized_with_vectors = {}\n",
    "empty_words = list(empty_vectors.keys())\n",
    "\n",
    "num_empty_texts = 0\n",
    "for index, tokens in lemmatized.items():\n",
    "    lemmatized_with_vectors[index] = [t for t in tokens if t not in empty_words or contains_mention(t)]\n",
    "    \n",
    "    if len(lemmatized_with_vectors[index]) == 0:\n",
    "        num_empty_texts += 1\n",
    "        \n",
    "print(num_empty_texts)"
   ]
  },
  {
   "cell_type": "markdown",
   "id": "3b1add1d",
   "metadata": {},
   "source": [
    "Ми бачимо, що к-сть текстів, де всі слова не мали векторів рівна нулю, а отже, ми можемо спробувати викинути ці слова зі словника. Проте, спершу перевіримо який вплив це матиме на самі повідомлення"
   ]
  },
  {
   "cell_type": "code",
   "execution_count": 21,
   "id": "04ab7c1d",
   "metadata": {},
   "outputs": [
    {
     "data": {
      "image/png": "[encoded data removed]",
      "text/plain": [
       "<Figure size 720x288 with 1 Axes>"
      ]
     },
     "metadata": {
      "needs_background": "light"
     },
     "output_type": "display_data"
    },
    {
     "data": {
      "image/png": "[encoded data removed]",
      "text/plain": [
       "<Figure size 720x288 with 1 Axes>"
      ]
     },
     "metadata": {
      "needs_background": "light"
     },
     "output_type": "display_data"
    },
    {
     "data": {
      "image/png": "[encoded data removed]",
      "text/plain": [
       "<Figure size 720x288 with 1 Axes>"
      ]
     },
     "metadata": {
      "needs_background": "light"
     },
     "output_type": "display_data"
    }
   ],
   "source": [
    "len_of_texts_no_empty_words = [len(v) for v in lemmatized_with_vectors.values()]\n",
    "len_of_texts_with_empty_words = [len(v) for v in lemmatized.values()]\n",
    "\n",
    "plt.figure(figsize=(10, 4))\n",
    "plt.hist(len_of_texts_no_empty_words, bins=30, rwidth=0.9, label=\"no empty words\")\n",
    "plt.hist(len_of_texts_with_empty_words, bins=30, rwidth=0.9, label=\"with empty words\", histtype=\"step\")\n",
    "plt.title(\"Lengths of texts with and without \\'empty\\' words\")\n",
    "plt.legend()\n",
    "plt.show()\n",
    "\n",
    "plt.figure(figsize=(10, 4))\n",
    "diff_between_two_lengths = np.array(len_of_texts_with_empty_words) - np.array(len_of_texts_no_empty_words)\n",
    "plt.hist(diff_between_two_lengths, bins=30, rwidth=0.9)\n",
    "plt.axvline(np.quantile(diff_between_two_lengths, 0.25), label=\"1/4 quantile\", c=\"yellow\")\n",
    "plt.axvline(np.quantile(diff_between_two_lengths, 0.5), label=\"2/4 quantile\", c=\"orange\")\n",
    "plt.axvline(np.quantile(diff_between_two_lengths, 0.75), label=\"3/4 quantile\", c=\"red\")\n",
    "plt.title(\"How size of the message changed, # of words\")\n",
    "plt.xlabel(\"# of words deleted\")\n",
    "plt.legend()\n",
    "plt.show()\n",
    "\n",
    "plt.figure(figsize=(10, 4))\n",
    "diff_in_percents_between_two_lengths = diff_between_two_lengths / np.array(len_of_texts_with_empty_words)\n",
    "plt.hist(diff_in_percents_between_two_lengths, bins=30, rwidth=0.9)\n",
    "plt.axvline(np.quantile(diff_in_percents_between_two_lengths, 0.25), label=\"1/4 quantile\", c=\"yellow\")\n",
    "plt.axvline(np.quantile(diff_in_percents_between_two_lengths, 0.5), label=\"2/4 quantile\", c=\"orange\")\n",
    "plt.axvline(np.quantile(diff_in_percents_between_two_lengths, 0.75), label=\"3/4 quantile\", c=\"red\")\n",
    "plt.title(\"How size of the message changed, %\")\n",
    "plt.xlabel(\"percents of total length deleted\")\n",
    "plt.legend()\n",
    "plt.show()\n",
    "\n",
    "\n",
    "del len_of_texts_no_empty_words\n",
    "del len_of_texts_with_empty_words\n",
    "del diff_between_two_lengths, diff_in_percents_between_two_lengths"
   ]
  },
  {
   "cell_type": "markdown",
   "id": "5783fa47",
   "metadata": {},
   "source": [
    "Можна зробити висновок, що в більшості випадків інформація втрачається не критично. Можемо їх прибрати що вже суттєво знизить розмір словника.\n",
    "\n",
    "Збережемо цей результат в датафрейм"
   ]
  },
  {
   "cell_type": "code",
   "execution_count": 22,
   "id": "b3b749ce",
   "metadata": {},
   "outputs": [],
   "source": [
    "df_rus[\"lemmatized_with_vectors_and_pos\"] = None\n",
    "\n",
    "for i in df_rus.index:\n",
    "    df_rus.loc[i, \"lemmatized_with_vectors_and_pos\"] = \" \".join(lemmatized_with_vectors[i])"
   ]
  },
  {
   "cell_type": "markdown",
   "id": "cd1dfbe4",
   "metadata": {},
   "source": [
    "Тепер, за допомогою методів кластеризації, зменшимо наш словник."
   ]
  },
  {
   "cell_type": "markdown",
   "id": "93aca8d9",
   "metadata": {},
   "source": [
    "### Vocab reduction using Kmeans"
   ]
  },
  {
   "cell_type": "markdown",
   "id": "bb9f68de",
   "metadata": {},
   "source": [
    "#### Convert to np array"
   ]
  },
  {
   "cell_type": "code",
   "execution_count": 23,
   "id": "63a04094",
   "metadata": {},
   "outputs": [],
   "source": [
    "vectors_not_empty = {k:v for k, v in vectors.items() if v is not None}"
   ]
  },
  {
   "cell_type": "code",
   "execution_count": 24,
   "id": "682fcf09",
   "metadata": {},
   "outputs": [],
   "source": [
    "# convert wrods with pos tags to indexes\n",
    "# Приберемо звідти ті слова, що належать до початкового запиту\n",
    "\n",
    "word2ind = {}\n",
    "ind2word = {}\n",
    "i = 0\n",
    "for k in vectors_not_empty.keys():\n",
    "    word = k.split(\"_\")[0]\n",
    "    if contains_mention(word):\n",
    "        continue\n",
    "    word2ind[k] = i\n",
    "    ind2word[i] = k\n",
    "    i += 1"
   ]
  },
  {
   "cell_type": "code",
   "execution_count": null,
   "id": "2d538c59",
   "metadata": {},
   "outputs": [],
   "source": []
  },
  {
   "cell_type": "code",
   "execution_count": 25,
   "id": "d50d2dca",
   "metadata": {},
   "outputs": [],
   "source": [
    "N = len(word2ind.keys())\n",
    "D = 300\n",
    "vectors_matrix = np.zeros((N, D))\n",
    "\n",
    "for k, v in vectors_not_empty.items():\n",
    "    try:\n",
    "        vectors_matrix[word2ind[k], :] = v\n",
    "    except KeyError:\n",
    "        continue"
   ]
  },
  {
   "cell_type": "markdown",
   "id": "d23b9391",
   "metadata": {},
   "source": [
    "#### Load Kmeans"
   ]
  },
  {
   "cell_type": "code",
   "execution_count": 26,
   "id": "653d904d",
   "metadata": {},
   "outputs": [],
   "source": [
    "from sklearn.cluster import KMeans"
   ]
  },
  {
   "cell_type": "code",
   "execution_count": 27,
   "id": "338a16ed",
   "metadata": {},
   "outputs": [
    {
     "name": "stdout",
     "output_type": "stream",
     "text": [
      "Wall time: 13min 4s\n"
     ]
    }
   ],
   "source": [
    "%%time\n",
    "\n",
    "kmeans = KMeans(n_clusters=vectors_matrix.shape[0] // 2)\n",
    "kmeans.fit(vectors_matrix)\n",
    "clusters = kmeans.predict(vectors_matrix)"
   ]
  },
  {
   "cell_type": "code",
   "execution_count": 28,
   "id": "b7945dc3",
   "metadata": {},
   "outputs": [],
   "source": [
    "cluster2word = {}\n",
    "\n",
    "for c in np.unique(clusters):\n",
    "    closest_index = np.sqrt(np.sum((kmeans.cluster_centers_[c] - vectors_matrix) ** 2, axis=1)).argmin()\n",
    "    word = ind2word[closest_index]\n",
    "    cluster2word[c] = word"
   ]
  },
  {
   "cell_type": "code",
   "execution_count": 29,
   "id": "ec0a6512",
   "metadata": {},
   "outputs": [],
   "source": [
    "unique_clusters, clusters_counts = np.unique(clusters, return_counts=True)\n",
    "\n",
    "clusters_counts = np.array(list(zip(unique_clusters, clusters_counts)))"
   ]
  },
  {
   "cell_type": "code",
   "execution_count": 30,
   "id": "1a58ebbb",
   "metadata": {},
   "outputs": [
    {
     "data": {
      "text/html": [
       "<div>\n",
       "<style scoped>\n",
       "    .dataframe tbody tr th:only-of-type {\n",
       "        vertical-align: middle;\n",
       "    }\n",
       "\n",
       "    .dataframe tbody tr th {\n",
       "        vertical-align: top;\n",
       "    }\n",
       "\n",
       "    .dataframe thead th {\n",
       "        text-align: right;\n",
       "    }\n",
       "</style>\n",
       "<table border=\"1\" class=\"dataframe\">\n",
       "  <thead>\n",
       "    <tr style=\"text-align: right;\">\n",
       "      <th></th>\n",
       "      <th>cluster</th>\n",
       "      <th>n</th>\n",
       "      <th>word</th>\n",
       "    </tr>\n",
       "  </thead>\n",
       "  <tbody>\n",
       "    <tr>\n",
       "      <th>1039</th>\n",
       "      <td>1039</td>\n",
       "      <td>34</td>\n",
       "      <td>ный_ADJ</td>\n",
       "    </tr>\n",
       "    <tr>\n",
       "      <th>709</th>\n",
       "      <td>709</td>\n",
       "      <td>24</td>\n",
       "      <td>accuracy_X</td>\n",
       "    </tr>\n",
       "    <tr>\n",
       "      <th>351</th>\n",
       "      <td>351</td>\n",
       "      <td>23</td>\n",
       "      <td>дмитрий_NOUN</td>\n",
       "    </tr>\n",
       "    <tr>\n",
       "      <th>1403</th>\n",
       "      <td>1403</td>\n",
       "      <td>23</td>\n",
       "      <td>brush_X</td>\n",
       "    </tr>\n",
       "    <tr>\n",
       "      <th>2590</th>\n",
       "      <td>2590</td>\n",
       "      <td>17</td>\n",
       "      <td>однако_ADV</td>\n",
       "    </tr>\n",
       "    <tr>\n",
       "      <th>910</th>\n",
       "      <td>910</td>\n",
       "      <td>17</td>\n",
       "      <td>артур_NOUN</td>\n",
       "    </tr>\n",
       "    <tr>\n",
       "      <th>6956</th>\n",
       "      <td>6956</td>\n",
       "      <td>16</td>\n",
       "      <td>действительно_ADV</td>\n",
       "    </tr>\n",
       "    <tr>\n",
       "      <th>2014</th>\n",
       "      <td>2014</td>\n",
       "      <td>16</td>\n",
       "      <td>поскольку_SCONJ</td>\n",
       "    </tr>\n",
       "    <tr>\n",
       "      <th>564</th>\n",
       "      <td>564</td>\n",
       "      <td>16</td>\n",
       "      <td>washing_X</td>\n",
       "    </tr>\n",
       "    <tr>\n",
       "      <th>347</th>\n",
       "      <td>347</td>\n",
       "      <td>15</td>\n",
       "      <td>булочка_NOUN</td>\n",
       "    </tr>\n",
       "    <tr>\n",
       "      <th>1279</th>\n",
       "      <td>1279</td>\n",
       "      <td>14</td>\n",
       "      <td>верно_ADV</td>\n",
       "    </tr>\n",
       "    <tr>\n",
       "      <th>208</th>\n",
       "      <td>208</td>\n",
       "      <td>14</td>\n",
       "      <td>that_X</td>\n",
       "    </tr>\n",
       "    <tr>\n",
       "      <th>585</th>\n",
       "      <td>585</td>\n",
       "      <td>14</td>\n",
       "      <td>говорить_VERB</td>\n",
       "    </tr>\n",
       "    <tr>\n",
       "      <th>6981</th>\n",
       "      <td>6981</td>\n",
       "      <td>13</td>\n",
       "      <td>алина_NOUN</td>\n",
       "    </tr>\n",
       "    <tr>\n",
       "      <th>48</th>\n",
       "      <td>48</td>\n",
       "      <td>13</td>\n",
       "      <td>правда_ADV</td>\n",
       "    </tr>\n",
       "    <tr>\n",
       "      <th>513</th>\n",
       "      <td>513</td>\n",
       "      <td>13</td>\n",
       "      <td>ярославский_ADJ</td>\n",
       "    </tr>\n",
       "    <tr>\n",
       "      <th>481</th>\n",
       "      <td>481</td>\n",
       "      <td>13</td>\n",
       "      <td>магазин_NOUN</td>\n",
       "    </tr>\n",
       "    <tr>\n",
       "      <th>97</th>\n",
       "      <td>97</td>\n",
       "      <td>13</td>\n",
       "      <td>октябрь_NOUN</td>\n",
       "    </tr>\n",
       "    <tr>\n",
       "      <th>817</th>\n",
       "      <td>817</td>\n",
       "      <td>12</td>\n",
       "      <td>банан_NOUN</td>\n",
       "    </tr>\n",
       "    <tr>\n",
       "      <th>5075</th>\n",
       "      <td>5075</td>\n",
       "      <td>12</td>\n",
       "      <td>вероятно_ADV</td>\n",
       "    </tr>\n",
       "    <tr>\n",
       "      <th>253</th>\n",
       "      <td>253</td>\n",
       "      <td>12</td>\n",
       "      <td>пластмассовый_ADJ</td>\n",
       "    </tr>\n",
       "    <tr>\n",
       "      <th>1978</th>\n",
       "      <td>1978</td>\n",
       "      <td>12</td>\n",
       "      <td>придурок_NOUN</td>\n",
       "    </tr>\n",
       "    <tr>\n",
       "      <th>53</th>\n",
       "      <td>53</td>\n",
       "      <td>11</td>\n",
       "      <td>strings_X</td>\n",
       "    </tr>\n",
       "    <tr>\n",
       "      <th>3997</th>\n",
       "      <td>3997</td>\n",
       "      <td>11</td>\n",
       "      <td>племянник_NOUN</td>\n",
       "    </tr>\n",
       "    <tr>\n",
       "      <th>75</th>\n",
       "      <td>75</td>\n",
       "      <td>11</td>\n",
       "      <td>который_PRON</td>\n",
       "    </tr>\n",
       "    <tr>\n",
       "      <th>1680</th>\n",
       "      <td>1680</td>\n",
       "      <td>11</td>\n",
       "      <td>бабушка_NOUN</td>\n",
       "    </tr>\n",
       "    <tr>\n",
       "      <th>5462</th>\n",
       "      <td>5462</td>\n",
       "      <td>11</td>\n",
       "      <td>котлета_NOUN</td>\n",
       "    </tr>\n",
       "    <tr>\n",
       "      <th>341</th>\n",
       "      <td>341</td>\n",
       "      <td>11</td>\n",
       "      <td>понимать_VERB</td>\n",
       "    </tr>\n",
       "    <tr>\n",
       "      <th>1561</th>\n",
       "      <td>1561</td>\n",
       "      <td>11</td>\n",
       "      <td>lsa_X</td>\n",
       "    </tr>\n",
       "    <tr>\n",
       "      <th>28</th>\n",
       "      <td>28</td>\n",
       "      <td>11</td>\n",
       "      <td>here_X</td>\n",
       "    </tr>\n",
       "  </tbody>\n",
       "</table>\n",
       "</div>"
      ],
      "text/plain": [
       "      cluster   n               word\n",
       "1039     1039  34            ный_ADJ\n",
       "709       709  24         accuracy_X\n",
       "351       351  23       дмитрий_NOUN\n",
       "1403     1403  23            brush_X\n",
       "2590     2590  17         однако_ADV\n",
       "910       910  17         артур_NOUN\n",
       "6956     6956  16  действительно_ADV\n",
       "2014     2014  16    поскольку_SCONJ\n",
       "564       564  16          washing_X\n",
       "347       347  15       булочка_NOUN\n",
       "1279     1279  14          верно_ADV\n",
       "208       208  14             that_X\n",
       "585       585  14      говорить_VERB\n",
       "6981     6981  13         алина_NOUN\n",
       "48         48  13         правда_ADV\n",
       "513       513  13    ярославский_ADJ\n",
       "481       481  13       магазин_NOUN\n",
       "97         97  13       октябрь_NOUN\n",
       "817       817  12         банан_NOUN\n",
       "5075     5075  12       вероятно_ADV\n",
       "253       253  12  пластмассовый_ADJ\n",
       "1978     1978  12      придурок_NOUN\n",
       "53         53  11          strings_X\n",
       "3997     3997  11     племянник_NOUN\n",
       "75         75  11       который_PRON\n",
       "1680     1680  11       бабушка_NOUN\n",
       "5462     5462  11       котлета_NOUN\n",
       "341       341  11      понимать_VERB\n",
       "1561     1561  11              lsa_X\n",
       "28         28  11             here_X"
      ]
     },
     "execution_count": 30,
     "metadata": {},
     "output_type": "execute_result"
    }
   ],
   "source": [
    "clusters_counts = pd.DataFrame(clusters_counts, columns=[\"cluster\", \"n\"])\n",
    "clusters_counts.sort_values(by=[\"n\"], ascending=False, inplace=True)\n",
    "clusters_counts[\"word\"] = clusters_counts.cluster.apply(lambda x: cluster2word[x])\n",
    "clusters_counts.head(30)"
   ]
  },
  {
   "cell_type": "code",
   "execution_count": 31,
   "id": "47426311",
   "metadata": {},
   "outputs": [
    {
     "name": "stdout",
     "output_type": "stream",
     "text": [
      "Total size of the cluster #1039 is 34\n",
      "['ший_VERB', 'антиразумный_NUM', 'ода_NOUN', 'тель_NOUN', 'ультра_NOUN', 'псевдо_ADP', 'льный_ADJ', 'архой_NOUN', 'ный_ADJ', 'свать_ADJ', 'мно_ADV', 'единовременно_ADV', 'ники_NOUN', 'ский_ADJ', 'контур_NOUN', 'стика_NOUN', 'ство_NOUN', 'лагать_VERB', 'сть_NOUN', 'шный_ADJ', 'ный_NOUN', 'обрый_NOUN', 'аться_VERB', 'никакой_NOUN', 'йоктосекунда_NOUN', 'пере_NOUN', 'рить_NOUN', 'фор_NOUN', 'вывать_VERB', 'лем_NOUN', 'вой_ADJ', 'орг_NOUN', 'гла_NOUN', 'мет_NOUN']\n"
     ]
    }
   ],
   "source": [
    "CLUSTER = 1039\n",
    "\n",
    "words_in_cluster = []\n",
    "for i, c in enumerate(clusters):\n",
    "    if c == CLUSTER:\n",
    "        words_in_cluster.append(ind2word[i])\n",
    "\n",
    "print(f\"Total size of the cluster #{CLUSTER} is {len(words_in_cluster)}\")\n",
    "print(words_in_cluster)"
   ]
  },
  {
   "cell_type": "markdown",
   "id": "19f57cdb",
   "metadata": {},
   "source": [
    "В цілому непогано згрупувало слова, думаю, що можна таким чином скоротити к-сть слів в словнику."
   ]
  },
  {
   "cell_type": "code",
   "execution_count": 32,
   "id": "f221aaea",
   "metadata": {},
   "outputs": [
    {
     "name": "stdout",
     "output_type": "stream",
     "text": [
      "There were 27549 words in the vocabulary initially\n",
      "There are 7101 words after the reduction, which is 74% less\n"
     ]
    }
   ],
   "source": [
    "print(f\"There were {len(vocab)} words in the vocabulary initially\")\n",
    "print(f\"There are {len(unique_clusters)} words after the reduction, which is {int(100 * (1 - len(unique_clusters) / len(vocab)) // 1)}% less\")"
   ]
  },
  {
   "cell_type": "markdown",
   "id": "82ceb8cc",
   "metadata": {},
   "source": [
    "Збережемо словник {старе слово: нове слово}"
   ]
  },
  {
   "cell_type": "code",
   "execution_count": 36,
   "id": "1c4a4e4c",
   "metadata": {},
   "outputs": [],
   "source": [
    "word_replacer = {}\n",
    "for index, word in ind2word.items():\n",
    "    word_no_POS = word.split(\"_\")[0]\n",
    "    pos_tag = word.split(\"_\")[1]\n",
    "    center_word = cluster2word[clusters[index]]\n",
    "    if word in word_replacer.keys():\n",
    "        if word != word_replacer[word]:\n",
    "            print(f\"{word} : {word_replacer[word]} -> {center_word}\")\n",
    "    word_replacer[word] = center_word"
   ]
  },
  {
   "cell_type": "code",
   "execution_count": 46,
   "id": "ed574ad8",
   "metadata": {},
   "outputs": [],
   "source": [
    "lemmatized_reduced = {}\n",
    "\n",
    "for index, text in lemmatized_with_vectors.items():\n",
    "    new_text = []\n",
    "    for w in text:\n",
    "        if w in word_replacer.keys():\n",
    "            new_text.append(word_replacer[w])\n",
    "        elif contains_mention(w.split(\"_\")[0]):\n",
    "            new_text.append(w)\n",
    "        elif w in empty_words:\n",
    "            continue\n",
    "        else:\n",
    "            print(w)\n",
    "                \n",
    "    lemmatized_reduced[index] = new_text"
   ]
  },
  {
   "cell_type": "code",
   "execution_count": 47,
   "id": "6ce07a2c",
   "metadata": {},
   "outputs": [],
   "source": [
    "df_rus[\"reduced_with_pos\"] = None\n",
    "df_rus[\"reduced_no_pos\"] = None\n",
    "\n",
    "for index, text in lemmatized_reduced.items():\n",
    "    df_rus.loc[index, \"reduced_with_pos\"] = \" \".join(text)\n",
    "    df_rus.loc[index, \"reduced_no_pos\"] = \" \".join([w.split(\"_\")[0] for w in text])"
   ]
  },
  {
   "cell_type": "code",
   "execution_count": 57,
   "id": "ad88e24e",
   "metadata": {},
   "outputs": [
    {
     "name": "stdout",
     "output_type": "stream",
     "text": [
      "Number of 0-length texts is 0\n"
     ]
    },
    {
     "data": {
      "image/png": "[encoded data removed]",
      "text/plain": [
       "<Figure size 432x288 with 1 Axes>"
      ]
     },
     "metadata": {
      "needs_background": "light"
     },
     "output_type": "display_data"
    }
   ],
   "source": [
    "df_rus[\"length\"] = df_rus.reduced_with_pos.apply(lambda x: len(x.split()))\n",
    "\n",
    "print(f\"Number of 0-length texts is {df_rus[df_rus.length.values == 0].shape[0]}\")\n",
    "\n",
    "df_rus[\"length\"].hist(rwidth=0.95)\n",
    "plt.title(\"Disctribution of lengths of reduced texts\")\n",
    "plt.show()\n",
    "\n",
    "df_rus.drop(columns=[\"length\"], inplace=True)"
   ]
  },
  {
   "cell_type": "code",
   "execution_count": 55,
   "id": "a9105e0d",
   "metadata": {},
   "outputs": [
    {
     "name": "stdout",
     "output_type": "stream",
     "text": [
      "Length of the new vocabulary is 7468, while the length of initial vocab was 27549\n"
     ]
    }
   ],
   "source": [
    "reduced_vocab = []\n",
    "\n",
    "for text in lemmatized_reduced.values():\n",
    "    for w in text:\n",
    "        if w in reduced_vocab:\n",
    "            continue\n",
    "        else:\n",
    "            reduced_vocab.append(w)\n",
    "            \n",
    "print(f\"Length of the new vocabulary is {len(reduced_vocab)}, while the length of initial vocab was {len(vocab)}\")"
   ]
  },
  {
   "cell_type": "markdown",
   "id": "d06d21cf",
   "metadata": {},
   "source": [
    "Отже, нам вдалось зменшити словник в 4 рази, що є досить суттєвим результатом. Збережемо наші дані"
   ]
  },
  {
   "cell_type": "code",
   "execution_count": 58,
   "id": "781f3e82",
   "metadata": {},
   "outputs": [
    {
     "data": {
      "text/html": [
       "<div>\n",
       "<style scoped>\n",
       "    .dataframe tbody tr th:only-of-type {\n",
       "        vertical-align: middle;\n",
       "    }\n",
       "\n",
       "    .dataframe tbody tr th {\n",
       "        vertical-align: top;\n",
       "    }\n",
       "\n",
       "    .dataframe thead th {\n",
       "        text-align: right;\n",
       "    }\n",
       "</style>\n",
       "<table border=\"1\" class=\"dataframe\">\n",
       "  <thead>\n",
       "    <tr style=\"text-align: right;\">\n",
       "      <th></th>\n",
       "      <th>mention</th>\n",
       "      <th>clean_text</th>\n",
       "      <th>language</th>\n",
       "      <th>clipped_part_correct</th>\n",
       "      <th>translated_text</th>\n",
       "      <th>clean_rus</th>\n",
       "      <th>clean_rus_no_stopwords</th>\n",
       "      <th>index</th>\n",
       "      <th>lemmatized</th>\n",
       "      <th>lemmatized_with_pos</th>\n",
       "      <th>lemmatized_with_vectors_and_pos</th>\n",
       "      <th>reduced_with_pos</th>\n",
       "      <th>reduced_no_pos</th>\n",
       "    </tr>\n",
       "  </thead>\n",
       "  <tbody>\n",
       "    <tr>\n",
       "      <th>0</th>\n",
       "      <td>Инверторные кондиционеры | Купить в Москве по ...</td>\n",
       "      <td>инверторные кондиционеры | купить в москве по ...</td>\n",
       "      <td>ru</td>\n",
       "      <td>NaN</td>\n",
       "      <td>инверторные кондиционеры | купить в москве по ...</td>\n",
       "      <td>инверторные кондиционеры купить в москве по вы...</td>\n",
       "      <td>инверторные кондиционеры купить москве выгодно...</td>\n",
       "      <td>0</td>\n",
       "      <td>инверторный кондиционер покупать москве выгодн...</td>\n",
       "      <td>инверторный_ADJ кондиционер_NOUN покупать_VERB...</td>\n",
       "      <td>кондиционер_NOUN покупать_VERB москве_NOUN выг...</td>\n",
       "      <td>кондиционер_NOUN купить_VERB москве_NOUN выгод...</td>\n",
       "      <td>кондиционер купить москве выгодный расценка ус...</td>\n",
       "    </tr>\n",
       "  </tbody>\n",
       "</table>\n",
       "</div>"
      ],
      "text/plain": [
       "                                             mention  \\\n",
       "0  Инверторные кондиционеры | Купить в Москве по ...   \n",
       "\n",
       "                                          clean_text language  \\\n",
       "0  инверторные кондиционеры | купить в москве по ...       ru   \n",
       "\n",
       "   clipped_part_correct                                    translated_text  \\\n",
       "0                   NaN  инверторные кондиционеры | купить в москве по ...   \n",
       "\n",
       "                                           clean_rus  \\\n",
       "0  инверторные кондиционеры купить в москве по вы...   \n",
       "\n",
       "                              clean_rus_no_stopwords  index  \\\n",
       "0  инверторные кондиционеры купить москве выгодно...      0   \n",
       "\n",
       "                                          lemmatized  \\\n",
       "0  инверторный кондиционер покупать москве выгодн...   \n",
       "\n",
       "                                 lemmatized_with_pos  \\\n",
       "0  инверторный_ADJ кондиционер_NOUN покупать_VERB...   \n",
       "\n",
       "                     lemmatized_with_vectors_and_pos  \\\n",
       "0  кондиционер_NOUN покупать_VERB москве_NOUN выг...   \n",
       "\n",
       "                                    reduced_with_pos  \\\n",
       "0  кондиционер_NOUN купить_VERB москве_NOUN выгод...   \n",
       "\n",
       "                                      reduced_no_pos  \n",
       "0  кондиционер купить москве выгодный расценка ус...  "
      ]
     },
     "execution_count": 58,
     "metadata": {},
     "output_type": "execute_result"
    }
   ],
   "source": [
    "df_rus.head(1)"
   ]
  },
  {
   "cell_type": "code",
   "execution_count": 59,
   "id": "9781974e",
   "metadata": {},
   "outputs": [],
   "source": [
    "writer = pd.ExcelWriter(\"home_appliances_rus_reduced.xlsx\",\n",
    "                        engine='xlsxwriter',\n",
    "                        options={'strings_to_urls': False, 'strings_to_formulas': False})\n",
    "df_rus.to_excel(writer)\n",
    "writer.close()"
   ]
  }
 ],
 "metadata": {
  "kernelspec": {
   "display_name": "Python 3",
   "language": "python",
   "name": "python3"
  },
  "language_info": {
   "codemirror_mode": {
    "name": "ipython",
    "version": 3
   },
   "file_extension": ".py",
   "mimetype": "text/x-python",
   "name": "python",
   "nbconvert_exporter": "python",
   "pygments_lexer": "ipython3",
   "version": "3.8.8"
  }
 },
 "nbformat": 4,
 "nbformat_minor": 5
}
